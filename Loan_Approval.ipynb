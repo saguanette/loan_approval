{
  "cells": [
    {
      "cell_type": "markdown",
      "id": "f5f5595c",
      "metadata": {
        "id": "f5f5595c"
      },
      "source": [
        "# Loan Approval using different Classifiers"
      ]
    },
    {
      "cell_type": "markdown",
      "source": [
        "##Importing Libraries"
      ],
      "metadata": {
        "id": "9bmqbvQq6nzL"
      },
      "id": "9bmqbvQq6nzL"
    },
    {
      "cell_type": "code",
      "execution_count": null,
      "id": "04217e78",
      "metadata": {
        "id": "04217e78"
      },
      "outputs": [],
      "source": [
        "import numpy as np\n",
        "import pandas as pd\n",
        "import matplotlib.pyplot as plt\n",
        "import seaborn as sns"
      ]
    },
    {
      "cell_type": "code",
      "execution_count": null,
      "id": "71f7792e",
      "metadata": {
        "id": "71f7792e"
      },
      "outputs": [],
      "source": [
        "#loading datasets\n",
        "loan_dataset = pd.read_csv('loan_table.csv')\n",
        "borrower_dataset = pd.read_csv('borrower_table.csv')"
      ]
    },
    {
      "cell_type": "code",
      "execution_count": null,
      "id": "52dc9223",
      "metadata": {
        "id": "52dc9223",
        "outputId": "8e66b403-3a6b-4a65-ea70-010f54707d96"
      },
      "outputs": [
        {
          "data": {
            "text/html": [
              "<div>\n",
              "<style scoped>\n",
              "    .dataframe tbody tr th:only-of-type {\n",
              "        vertical-align: middle;\n",
              "    }\n",
              "\n",
              "    .dataframe tbody tr th {\n",
              "        vertical-align: top;\n",
              "    }\n",
              "\n",
              "    .dataframe thead th {\n",
              "        text-align: right;\n",
              "    }\n",
              "</style>\n",
              "<table border=\"1\" class=\"dataframe\">\n",
              "  <thead>\n",
              "    <tr style=\"text-align: right;\">\n",
              "      <th></th>\n",
              "      <th>loan_id</th>\n",
              "      <th>loan_purpose</th>\n",
              "      <th>date</th>\n",
              "      <th>loan_granted</th>\n",
              "      <th>loan_repaid</th>\n",
              "    </tr>\n",
              "  </thead>\n",
              "  <tbody>\n",
              "    <tr>\n",
              "      <th>0</th>\n",
              "      <td>19454</td>\n",
              "      <td>investment</td>\n",
              "      <td>2012-03-15</td>\n",
              "      <td>0</td>\n",
              "      <td>NaN</td>\n",
              "    </tr>\n",
              "    <tr>\n",
              "      <th>1</th>\n",
              "      <td>496811</td>\n",
              "      <td>investment</td>\n",
              "      <td>2012-01-17</td>\n",
              "      <td>0</td>\n",
              "      <td>NaN</td>\n",
              "    </tr>\n",
              "    <tr>\n",
              "      <th>2</th>\n",
              "      <td>929493</td>\n",
              "      <td>other</td>\n",
              "      <td>2012-02-09</td>\n",
              "      <td>0</td>\n",
              "      <td>NaN</td>\n",
              "    </tr>\n",
              "    <tr>\n",
              "      <th>3</th>\n",
              "      <td>580653</td>\n",
              "      <td>other</td>\n",
              "      <td>2012-06-27</td>\n",
              "      <td>1</td>\n",
              "      <td>1.0</td>\n",
              "    </tr>\n",
              "    <tr>\n",
              "      <th>4</th>\n",
              "      <td>172419</td>\n",
              "      <td>business</td>\n",
              "      <td>2012-05-21</td>\n",
              "      <td>1</td>\n",
              "      <td>0.0</td>\n",
              "    </tr>\n",
              "    <tr>\n",
              "      <th>...</th>\n",
              "      <td>...</td>\n",
              "      <td>...</td>\n",
              "      <td>...</td>\n",
              "      <td>...</td>\n",
              "      <td>...</td>\n",
              "    </tr>\n",
              "    <tr>\n",
              "      <th>101095</th>\n",
              "      <td>734902</td>\n",
              "      <td>emergency_funds</td>\n",
              "      <td>2012-01-30</td>\n",
              "      <td>1</td>\n",
              "      <td>0.0</td>\n",
              "    </tr>\n",
              "    <tr>\n",
              "      <th>101096</th>\n",
              "      <td>712467</td>\n",
              "      <td>business</td>\n",
              "      <td>2012-11-22</td>\n",
              "      <td>1</td>\n",
              "      <td>0.0</td>\n",
              "    </tr>\n",
              "    <tr>\n",
              "      <th>101097</th>\n",
              "      <td>209268</td>\n",
              "      <td>other</td>\n",
              "      <td>2012-09-13</td>\n",
              "      <td>1</td>\n",
              "      <td>1.0</td>\n",
              "    </tr>\n",
              "    <tr>\n",
              "      <th>101098</th>\n",
              "      <td>779254</td>\n",
              "      <td>business</td>\n",
              "      <td>2012-02-08</td>\n",
              "      <td>1</td>\n",
              "      <td>1.0</td>\n",
              "    </tr>\n",
              "    <tr>\n",
              "      <th>101099</th>\n",
              "      <td>774414</td>\n",
              "      <td>other</td>\n",
              "      <td>2012-05-09</td>\n",
              "      <td>0</td>\n",
              "      <td>NaN</td>\n",
              "    </tr>\n",
              "  </tbody>\n",
              "</table>\n",
              "<p>101100 rows × 5 columns</p>\n",
              "</div>"
            ],
            "text/plain": [
              "        loan_id     loan_purpose        date  loan_granted  loan_repaid\n",
              "0         19454       investment  2012-03-15             0          NaN\n",
              "1        496811       investment  2012-01-17             0          NaN\n",
              "2        929493            other  2012-02-09             0          NaN\n",
              "3        580653            other  2012-06-27             1          1.0\n",
              "4        172419         business  2012-05-21             1          0.0\n",
              "...         ...              ...         ...           ...          ...\n",
              "101095   734902  emergency_funds  2012-01-30             1          0.0\n",
              "101096   712467         business  2012-11-22             1          0.0\n",
              "101097   209268            other  2012-09-13             1          1.0\n",
              "101098   779254         business  2012-02-08             1          1.0\n",
              "101099   774414            other  2012-05-09             0          NaN\n",
              "\n",
              "[101100 rows x 5 columns]"
            ]
          },
          "execution_count": 69,
          "metadata": {},
          "output_type": "execute_result"
        }
      ],
      "source": [
        "#viewing dataset\n",
        "loan_dataset"
      ]
    },
    {
      "cell_type": "code",
      "execution_count": null,
      "id": "a794183c",
      "metadata": {
        "id": "a794183c",
        "outputId": "686dc3b3-1dfb-469b-cfb6-cc176cbce4f7"
      },
      "outputs": [
        {
          "data": {
            "text/html": [
              "<div>\n",
              "<style scoped>\n",
              "    .dataframe tbody tr th:only-of-type {\n",
              "        vertical-align: middle;\n",
              "    }\n",
              "\n",
              "    .dataframe tbody tr th {\n",
              "        vertical-align: top;\n",
              "    }\n",
              "\n",
              "    .dataframe thead th {\n",
              "        text-align: right;\n",
              "    }\n",
              "</style>\n",
              "<table border=\"1\" class=\"dataframe\">\n",
              "  <thead>\n",
              "    <tr style=\"text-align: right;\">\n",
              "      <th></th>\n",
              "      <th>loan_id</th>\n",
              "      <th>is_first_loan</th>\n",
              "      <th>fully_repaid_previous_loans</th>\n",
              "      <th>currently_repaying_other_loans</th>\n",
              "      <th>total_credit_card_limit</th>\n",
              "      <th>avg_percentage_credit_card_limit_used_last_year</th>\n",
              "      <th>saving_amount</th>\n",
              "      <th>checking_amount</th>\n",
              "      <th>is_employed</th>\n",
              "      <th>yearly_salary</th>\n",
              "      <th>age</th>\n",
              "      <th>dependent_number</th>\n",
              "    </tr>\n",
              "  </thead>\n",
              "  <tbody>\n",
              "    <tr>\n",
              "      <th>0</th>\n",
              "      <td>289774</td>\n",
              "      <td>1</td>\n",
              "      <td>NaN</td>\n",
              "      <td>NaN</td>\n",
              "      <td>8000</td>\n",
              "      <td>0.49</td>\n",
              "      <td>3285</td>\n",
              "      <td>1073</td>\n",
              "      <td>0</td>\n",
              "      <td>0</td>\n",
              "      <td>47</td>\n",
              "      <td>3</td>\n",
              "    </tr>\n",
              "    <tr>\n",
              "      <th>1</th>\n",
              "      <td>482590</td>\n",
              "      <td>0</td>\n",
              "      <td>1.0</td>\n",
              "      <td>0.0</td>\n",
              "      <td>4500</td>\n",
              "      <td>1.03</td>\n",
              "      <td>636</td>\n",
              "      <td>5299</td>\n",
              "      <td>1</td>\n",
              "      <td>13500</td>\n",
              "      <td>33</td>\n",
              "      <td>1</td>\n",
              "    </tr>\n",
              "    <tr>\n",
              "      <th>2</th>\n",
              "      <td>135565</td>\n",
              "      <td>1</td>\n",
              "      <td>NaN</td>\n",
              "      <td>NaN</td>\n",
              "      <td>6900</td>\n",
              "      <td>0.82</td>\n",
              "      <td>2085</td>\n",
              "      <td>3422</td>\n",
              "      <td>1</td>\n",
              "      <td>24500</td>\n",
              "      <td>38</td>\n",
              "      <td>8</td>\n",
              "    </tr>\n",
              "    <tr>\n",
              "      <th>3</th>\n",
              "      <td>207797</td>\n",
              "      <td>0</td>\n",
              "      <td>1.0</td>\n",
              "      <td>0.0</td>\n",
              "      <td>1200</td>\n",
              "      <td>0.82</td>\n",
              "      <td>358</td>\n",
              "      <td>3388</td>\n",
              "      <td>0</td>\n",
              "      <td>0</td>\n",
              "      <td>24</td>\n",
              "      <td>1</td>\n",
              "    </tr>\n",
              "    <tr>\n",
              "      <th>4</th>\n",
              "      <td>828078</td>\n",
              "      <td>0</td>\n",
              "      <td>0.0</td>\n",
              "      <td>0.0</td>\n",
              "      <td>6900</td>\n",
              "      <td>0.80</td>\n",
              "      <td>2138</td>\n",
              "      <td>4282</td>\n",
              "      <td>1</td>\n",
              "      <td>18100</td>\n",
              "      <td>36</td>\n",
              "      <td>1</td>\n",
              "    </tr>\n",
              "    <tr>\n",
              "      <th>...</th>\n",
              "      <td>...</td>\n",
              "      <td>...</td>\n",
              "      <td>...</td>\n",
              "      <td>...</td>\n",
              "      <td>...</td>\n",
              "      <td>...</td>\n",
              "      <td>...</td>\n",
              "      <td>...</td>\n",
              "      <td>...</td>\n",
              "      <td>...</td>\n",
              "      <td>...</td>\n",
              "      <td>...</td>\n",
              "    </tr>\n",
              "    <tr>\n",
              "      <th>101095</th>\n",
              "      <td>38238</td>\n",
              "      <td>1</td>\n",
              "      <td>NaN</td>\n",
              "      <td>NaN</td>\n",
              "      <td>2200</td>\n",
              "      <td>0.83</td>\n",
              "      <td>1295</td>\n",
              "      <td>2240</td>\n",
              "      <td>0</td>\n",
              "      <td>0</td>\n",
              "      <td>47</td>\n",
              "      <td>2</td>\n",
              "    </tr>\n",
              "    <tr>\n",
              "      <th>101096</th>\n",
              "      <td>590712</td>\n",
              "      <td>1</td>\n",
              "      <td>NaN</td>\n",
              "      <td>NaN</td>\n",
              "      <td>3800</td>\n",
              "      <td>0.70</td>\n",
              "      <td>340</td>\n",
              "      <td>3802</td>\n",
              "      <td>1</td>\n",
              "      <td>36100</td>\n",
              "      <td>41</td>\n",
              "      <td>7</td>\n",
              "    </tr>\n",
              "    <tr>\n",
              "      <th>101097</th>\n",
              "      <td>961276</td>\n",
              "      <td>1</td>\n",
              "      <td>NaN</td>\n",
              "      <td>NaN</td>\n",
              "      <td>1600</td>\n",
              "      <td>1.06</td>\n",
              "      <td>445</td>\n",
              "      <td>1757</td>\n",
              "      <td>1</td>\n",
              "      <td>40800</td>\n",
              "      <td>71</td>\n",
              "      <td>3</td>\n",
              "    </tr>\n",
              "    <tr>\n",
              "      <th>101098</th>\n",
              "      <td>551027</td>\n",
              "      <td>0</td>\n",
              "      <td>1.0</td>\n",
              "      <td>0.0</td>\n",
              "      <td>7000</td>\n",
              "      <td>0.82</td>\n",
              "      <td>354</td>\n",
              "      <td>1435</td>\n",
              "      <td>1</td>\n",
              "      <td>41900</td>\n",
              "      <td>44</td>\n",
              "      <td>2</td>\n",
              "    </tr>\n",
              "    <tr>\n",
              "      <th>101099</th>\n",
              "      <td>761999</td>\n",
              "      <td>1</td>\n",
              "      <td>NaN</td>\n",
              "      <td>NaN</td>\n",
              "      <td>2300</td>\n",
              "      <td>0.47</td>\n",
              "      <td>2999</td>\n",
              "      <td>4420</td>\n",
              "      <td>1</td>\n",
              "      <td>44200</td>\n",
              "      <td>36</td>\n",
              "      <td>7</td>\n",
              "    </tr>\n",
              "  </tbody>\n",
              "</table>\n",
              "<p>101100 rows × 12 columns</p>\n",
              "</div>"
            ],
            "text/plain": [
              "        loan_id  is_first_loan  fully_repaid_previous_loans  \\\n",
              "0        289774              1                          NaN   \n",
              "1        482590              0                          1.0   \n",
              "2        135565              1                          NaN   \n",
              "3        207797              0                          1.0   \n",
              "4        828078              0                          0.0   \n",
              "...         ...            ...                          ...   \n",
              "101095    38238              1                          NaN   \n",
              "101096   590712              1                          NaN   \n",
              "101097   961276              1                          NaN   \n",
              "101098   551027              0                          1.0   \n",
              "101099   761999              1                          NaN   \n",
              "\n",
              "        currently_repaying_other_loans  total_credit_card_limit  \\\n",
              "0                                  NaN                     8000   \n",
              "1                                  0.0                     4500   \n",
              "2                                  NaN                     6900   \n",
              "3                                  0.0                     1200   \n",
              "4                                  0.0                     6900   \n",
              "...                                ...                      ...   \n",
              "101095                             NaN                     2200   \n",
              "101096                             NaN                     3800   \n",
              "101097                             NaN                     1600   \n",
              "101098                             0.0                     7000   \n",
              "101099                             NaN                     2300   \n",
              "\n",
              "        avg_percentage_credit_card_limit_used_last_year  saving_amount  \\\n",
              "0                                                  0.49           3285   \n",
              "1                                                  1.03            636   \n",
              "2                                                  0.82           2085   \n",
              "3                                                  0.82            358   \n",
              "4                                                  0.80           2138   \n",
              "...                                                 ...            ...   \n",
              "101095                                             0.83           1295   \n",
              "101096                                             0.70            340   \n",
              "101097                                             1.06            445   \n",
              "101098                                             0.82            354   \n",
              "101099                                             0.47           2999   \n",
              "\n",
              "        checking_amount  is_employed  yearly_salary  age  dependent_number  \n",
              "0                  1073            0              0   47                 3  \n",
              "1                  5299            1          13500   33                 1  \n",
              "2                  3422            1          24500   38                 8  \n",
              "3                  3388            0              0   24                 1  \n",
              "4                  4282            1          18100   36                 1  \n",
              "...                 ...          ...            ...  ...               ...  \n",
              "101095             2240            0              0   47                 2  \n",
              "101096             3802            1          36100   41                 7  \n",
              "101097             1757            1          40800   71                 3  \n",
              "101098             1435            1          41900   44                 2  \n",
              "101099             4420            1          44200   36                 7  \n",
              "\n",
              "[101100 rows x 12 columns]"
            ]
          },
          "execution_count": 70,
          "metadata": {},
          "output_type": "execute_result"
        }
      ],
      "source": [
        "#viewing dataset\n",
        "borrower_dataset"
      ]
    },
    {
      "cell_type": "code",
      "execution_count": null,
      "id": "759366d5",
      "metadata": {
        "id": "759366d5"
      },
      "outputs": [],
      "source": [
        "#joining two datasets\n",
        "dataset = pd.merge(borrower_dataset, loan_dataset, on='loan_id')"
      ]
    },
    {
      "cell_type": "code",
      "execution_count": null,
      "id": "7945acb8",
      "metadata": {
        "id": "7945acb8",
        "outputId": "b9f0ad01-bded-4a94-9bef-b62189087868"
      },
      "outputs": [
        {
          "data": {
            "text/html": [
              "<div>\n",
              "<style scoped>\n",
              "    .dataframe tbody tr th:only-of-type {\n",
              "        vertical-align: middle;\n",
              "    }\n",
              "\n",
              "    .dataframe tbody tr th {\n",
              "        vertical-align: top;\n",
              "    }\n",
              "\n",
              "    .dataframe thead th {\n",
              "        text-align: right;\n",
              "    }\n",
              "</style>\n",
              "<table border=\"1\" class=\"dataframe\">\n",
              "  <thead>\n",
              "    <tr style=\"text-align: right;\">\n",
              "      <th></th>\n",
              "      <th>loan_id</th>\n",
              "      <th>is_first_loan</th>\n",
              "      <th>fully_repaid_previous_loans</th>\n",
              "      <th>currently_repaying_other_loans</th>\n",
              "      <th>total_credit_card_limit</th>\n",
              "      <th>avg_percentage_credit_card_limit_used_last_year</th>\n",
              "      <th>saving_amount</th>\n",
              "      <th>checking_amount</th>\n",
              "      <th>is_employed</th>\n",
              "      <th>yearly_salary</th>\n",
              "      <th>age</th>\n",
              "      <th>dependent_number</th>\n",
              "      <th>loan_purpose</th>\n",
              "      <th>date</th>\n",
              "      <th>loan_granted</th>\n",
              "      <th>loan_repaid</th>\n",
              "    </tr>\n",
              "  </thead>\n",
              "  <tbody>\n",
              "    <tr>\n",
              "      <th>0</th>\n",
              "      <td>289774</td>\n",
              "      <td>1</td>\n",
              "      <td>NaN</td>\n",
              "      <td>NaN</td>\n",
              "      <td>8000</td>\n",
              "      <td>0.49</td>\n",
              "      <td>3285</td>\n",
              "      <td>1073</td>\n",
              "      <td>0</td>\n",
              "      <td>0</td>\n",
              "      <td>47</td>\n",
              "      <td>3</td>\n",
              "      <td>business</td>\n",
              "      <td>2012-01-31</td>\n",
              "      <td>0</td>\n",
              "      <td>NaN</td>\n",
              "    </tr>\n",
              "    <tr>\n",
              "      <th>1</th>\n",
              "      <td>482590</td>\n",
              "      <td>0</td>\n",
              "      <td>1.0</td>\n",
              "      <td>0.0</td>\n",
              "      <td>4500</td>\n",
              "      <td>1.03</td>\n",
              "      <td>636</td>\n",
              "      <td>5299</td>\n",
              "      <td>1</td>\n",
              "      <td>13500</td>\n",
              "      <td>33</td>\n",
              "      <td>1</td>\n",
              "      <td>investment</td>\n",
              "      <td>2012-11-02</td>\n",
              "      <td>0</td>\n",
              "      <td>NaN</td>\n",
              "    </tr>\n",
              "    <tr>\n",
              "      <th>2</th>\n",
              "      <td>135565</td>\n",
              "      <td>1</td>\n",
              "      <td>NaN</td>\n",
              "      <td>NaN</td>\n",
              "      <td>6900</td>\n",
              "      <td>0.82</td>\n",
              "      <td>2085</td>\n",
              "      <td>3422</td>\n",
              "      <td>1</td>\n",
              "      <td>24500</td>\n",
              "      <td>38</td>\n",
              "      <td>8</td>\n",
              "      <td>other</td>\n",
              "      <td>2012-07-16</td>\n",
              "      <td>1</td>\n",
              "      <td>1.0</td>\n",
              "    </tr>\n",
              "    <tr>\n",
              "      <th>3</th>\n",
              "      <td>207797</td>\n",
              "      <td>0</td>\n",
              "      <td>1.0</td>\n",
              "      <td>0.0</td>\n",
              "      <td>1200</td>\n",
              "      <td>0.82</td>\n",
              "      <td>358</td>\n",
              "      <td>3388</td>\n",
              "      <td>0</td>\n",
              "      <td>0</td>\n",
              "      <td>24</td>\n",
              "      <td>1</td>\n",
              "      <td>investment</td>\n",
              "      <td>2012-06-05</td>\n",
              "      <td>0</td>\n",
              "      <td>NaN</td>\n",
              "    </tr>\n",
              "    <tr>\n",
              "      <th>4</th>\n",
              "      <td>828078</td>\n",
              "      <td>0</td>\n",
              "      <td>0.0</td>\n",
              "      <td>0.0</td>\n",
              "      <td>6900</td>\n",
              "      <td>0.80</td>\n",
              "      <td>2138</td>\n",
              "      <td>4282</td>\n",
              "      <td>1</td>\n",
              "      <td>18100</td>\n",
              "      <td>36</td>\n",
              "      <td>1</td>\n",
              "      <td>emergency_funds</td>\n",
              "      <td>2012-11-28</td>\n",
              "      <td>0</td>\n",
              "      <td>NaN</td>\n",
              "    </tr>\n",
              "    <tr>\n",
              "      <th>...</th>\n",
              "      <td>...</td>\n",
              "      <td>...</td>\n",
              "      <td>...</td>\n",
              "      <td>...</td>\n",
              "      <td>...</td>\n",
              "      <td>...</td>\n",
              "      <td>...</td>\n",
              "      <td>...</td>\n",
              "      <td>...</td>\n",
              "      <td>...</td>\n",
              "      <td>...</td>\n",
              "      <td>...</td>\n",
              "      <td>...</td>\n",
              "      <td>...</td>\n",
              "      <td>...</td>\n",
              "      <td>...</td>\n",
              "    </tr>\n",
              "    <tr>\n",
              "      <th>101095</th>\n",
              "      <td>38238</td>\n",
              "      <td>1</td>\n",
              "      <td>NaN</td>\n",
              "      <td>NaN</td>\n",
              "      <td>2200</td>\n",
              "      <td>0.83</td>\n",
              "      <td>1295</td>\n",
              "      <td>2240</td>\n",
              "      <td>0</td>\n",
              "      <td>0</td>\n",
              "      <td>47</td>\n",
              "      <td>2</td>\n",
              "      <td>other</td>\n",
              "      <td>2012-12-24</td>\n",
              "      <td>0</td>\n",
              "      <td>NaN</td>\n",
              "    </tr>\n",
              "    <tr>\n",
              "      <th>101096</th>\n",
              "      <td>590712</td>\n",
              "      <td>1</td>\n",
              "      <td>NaN</td>\n",
              "      <td>NaN</td>\n",
              "      <td>3800</td>\n",
              "      <td>0.70</td>\n",
              "      <td>340</td>\n",
              "      <td>3802</td>\n",
              "      <td>1</td>\n",
              "      <td>36100</td>\n",
              "      <td>41</td>\n",
              "      <td>7</td>\n",
              "      <td>business</td>\n",
              "      <td>2012-05-17</td>\n",
              "      <td>1</td>\n",
              "      <td>1.0</td>\n",
              "    </tr>\n",
              "    <tr>\n",
              "      <th>101097</th>\n",
              "      <td>961276</td>\n",
              "      <td>1</td>\n",
              "      <td>NaN</td>\n",
              "      <td>NaN</td>\n",
              "      <td>1600</td>\n",
              "      <td>1.06</td>\n",
              "      <td>445</td>\n",
              "      <td>1757</td>\n",
              "      <td>1</td>\n",
              "      <td>40800</td>\n",
              "      <td>71</td>\n",
              "      <td>3</td>\n",
              "      <td>other</td>\n",
              "      <td>2012-09-07</td>\n",
              "      <td>0</td>\n",
              "      <td>NaN</td>\n",
              "    </tr>\n",
              "    <tr>\n",
              "      <th>101098</th>\n",
              "      <td>551027</td>\n",
              "      <td>0</td>\n",
              "      <td>1.0</td>\n",
              "      <td>0.0</td>\n",
              "      <td>7000</td>\n",
              "      <td>0.82</td>\n",
              "      <td>354</td>\n",
              "      <td>1435</td>\n",
              "      <td>1</td>\n",
              "      <td>41900</td>\n",
              "      <td>44</td>\n",
              "      <td>2</td>\n",
              "      <td>investment</td>\n",
              "      <td>2012-08-23</td>\n",
              "      <td>1</td>\n",
              "      <td>0.0</td>\n",
              "    </tr>\n",
              "    <tr>\n",
              "      <th>101099</th>\n",
              "      <td>761999</td>\n",
              "      <td>1</td>\n",
              "      <td>NaN</td>\n",
              "      <td>NaN</td>\n",
              "      <td>2300</td>\n",
              "      <td>0.47</td>\n",
              "      <td>2999</td>\n",
              "      <td>4420</td>\n",
              "      <td>1</td>\n",
              "      <td>44200</td>\n",
              "      <td>36</td>\n",
              "      <td>7</td>\n",
              "      <td>home</td>\n",
              "      <td>2012-06-20</td>\n",
              "      <td>1</td>\n",
              "      <td>1.0</td>\n",
              "    </tr>\n",
              "  </tbody>\n",
              "</table>\n",
              "<p>101100 rows × 16 columns</p>\n",
              "</div>"
            ],
            "text/plain": [
              "        loan_id  is_first_loan  fully_repaid_previous_loans  \\\n",
              "0        289774              1                          NaN   \n",
              "1        482590              0                          1.0   \n",
              "2        135565              1                          NaN   \n",
              "3        207797              0                          1.0   \n",
              "4        828078              0                          0.0   \n",
              "...         ...            ...                          ...   \n",
              "101095    38238              1                          NaN   \n",
              "101096   590712              1                          NaN   \n",
              "101097   961276              1                          NaN   \n",
              "101098   551027              0                          1.0   \n",
              "101099   761999              1                          NaN   \n",
              "\n",
              "        currently_repaying_other_loans  total_credit_card_limit  \\\n",
              "0                                  NaN                     8000   \n",
              "1                                  0.0                     4500   \n",
              "2                                  NaN                     6900   \n",
              "3                                  0.0                     1200   \n",
              "4                                  0.0                     6900   \n",
              "...                                ...                      ...   \n",
              "101095                             NaN                     2200   \n",
              "101096                             NaN                     3800   \n",
              "101097                             NaN                     1600   \n",
              "101098                             0.0                     7000   \n",
              "101099                             NaN                     2300   \n",
              "\n",
              "        avg_percentage_credit_card_limit_used_last_year  saving_amount  \\\n",
              "0                                                  0.49           3285   \n",
              "1                                                  1.03            636   \n",
              "2                                                  0.82           2085   \n",
              "3                                                  0.82            358   \n",
              "4                                                  0.80           2138   \n",
              "...                                                 ...            ...   \n",
              "101095                                             0.83           1295   \n",
              "101096                                             0.70            340   \n",
              "101097                                             1.06            445   \n",
              "101098                                             0.82            354   \n",
              "101099                                             0.47           2999   \n",
              "\n",
              "        checking_amount  is_employed  yearly_salary  age  dependent_number  \\\n",
              "0                  1073            0              0   47                 3   \n",
              "1                  5299            1          13500   33                 1   \n",
              "2                  3422            1          24500   38                 8   \n",
              "3                  3388            0              0   24                 1   \n",
              "4                  4282            1          18100   36                 1   \n",
              "...                 ...          ...            ...  ...               ...   \n",
              "101095             2240            0              0   47                 2   \n",
              "101096             3802            1          36100   41                 7   \n",
              "101097             1757            1          40800   71                 3   \n",
              "101098             1435            1          41900   44                 2   \n",
              "101099             4420            1          44200   36                 7   \n",
              "\n",
              "           loan_purpose        date  loan_granted  loan_repaid  \n",
              "0              business  2012-01-31             0          NaN  \n",
              "1            investment  2012-11-02             0          NaN  \n",
              "2                 other  2012-07-16             1          1.0  \n",
              "3            investment  2012-06-05             0          NaN  \n",
              "4       emergency_funds  2012-11-28             0          NaN  \n",
              "...                 ...         ...           ...          ...  \n",
              "101095            other  2012-12-24             0          NaN  \n",
              "101096         business  2012-05-17             1          1.0  \n",
              "101097            other  2012-09-07             0          NaN  \n",
              "101098       investment  2012-08-23             1          0.0  \n",
              "101099             home  2012-06-20             1          1.0  \n",
              "\n",
              "[101100 rows x 16 columns]"
            ]
          },
          "execution_count": 72,
          "metadata": {},
          "output_type": "execute_result"
        }
      ],
      "source": [
        "#viewing dataset\n",
        "dataset"
      ]
    },
    {
      "cell_type": "markdown",
      "id": "5da79282",
      "metadata": {
        "id": "5da79282"
      },
      "source": [
        "\n",
        "## Exploratory Data Analysis"
      ]
    },
    {
      "cell_type": "code",
      "execution_count": null,
      "id": "f582c746",
      "metadata": {
        "id": "f582c746",
        "outputId": "7e09b5df-85ba-4b28-820f-ec3ef7e83f2b"
      },
      "outputs": [
        {
          "data": {
            "text/plain": [
              "Index(['loan_id', 'is_first_loan', 'fully_repaid_previous_loans',\n",
              "       'currently_repaying_other_loans', 'total_credit_card_limit',\n",
              "       'avg_percentage_credit_card_limit_used_last_year', 'saving_amount',\n",
              "       'checking_amount', 'is_employed', 'yearly_salary', 'age',\n",
              "       'dependent_number', 'loan_purpose', 'date', 'loan_granted',\n",
              "       'loan_repaid'],\n",
              "      dtype='object')"
            ]
          },
          "execution_count": 17,
          "metadata": {},
          "output_type": "execute_result"
        }
      ],
      "source": [
        "dataset.columns"
      ]
    },
    {
      "cell_type": "code",
      "execution_count": null,
      "id": "01a85102",
      "metadata": {
        "id": "01a85102",
        "outputId": "307190e1-0ec3-4000-dd96-7d2d8803c6d5"
      },
      "outputs": [
        {
          "data": {
            "text/plain": [
              "(101100, 16)"
            ]
          },
          "execution_count": 18,
          "metadata": {},
          "output_type": "execute_result"
        }
      ],
      "source": [
        "dataset.shape"
      ]
    },
    {
      "cell_type": "code",
      "execution_count": null,
      "id": "8bfcc6d8",
      "metadata": {
        "id": "8bfcc6d8",
        "outputId": "2ab9d3fb-388d-4cb8-e548-5928a8ed4655"
      },
      "outputs": [
        {
          "data": {
            "text/html": [
              "<div>\n",
              "<style scoped>\n",
              "    .dataframe tbody tr th:only-of-type {\n",
              "        vertical-align: middle;\n",
              "    }\n",
              "\n",
              "    .dataframe tbody tr th {\n",
              "        vertical-align: top;\n",
              "    }\n",
              "\n",
              "    .dataframe thead th {\n",
              "        text-align: right;\n",
              "    }\n",
              "</style>\n",
              "<table border=\"1\" class=\"dataframe\">\n",
              "  <thead>\n",
              "    <tr style=\"text-align: right;\">\n",
              "      <th></th>\n",
              "      <th>count</th>\n",
              "      <th>mean</th>\n",
              "      <th>std</th>\n",
              "      <th>min</th>\n",
              "      <th>25%</th>\n",
              "      <th>50%</th>\n",
              "      <th>75%</th>\n",
              "      <th>max</th>\n",
              "    </tr>\n",
              "  </thead>\n",
              "  <tbody>\n",
              "    <tr>\n",
              "      <th>loan_id</th>\n",
              "      <td>101100.0</td>\n",
              "      <td>499666.826726</td>\n",
              "      <td>288662.006929</td>\n",
              "      <td>30.0</td>\n",
              "      <td>250333.75</td>\n",
              "      <td>499885.00</td>\n",
              "      <td>749706.25</td>\n",
              "      <td>999987.00</td>\n",
              "    </tr>\n",
              "    <tr>\n",
              "      <th>is_first_loan</th>\n",
              "      <td>101100.0</td>\n",
              "      <td>0.543492</td>\n",
              "      <td>0.498107</td>\n",
              "      <td>0.0</td>\n",
              "      <td>0.00</td>\n",
              "      <td>1.00</td>\n",
              "      <td>1.00</td>\n",
              "      <td>1.00</td>\n",
              "    </tr>\n",
              "    <tr>\n",
              "      <th>fully_repaid_previous_loans</th>\n",
              "      <td>46153.0</td>\n",
              "      <td>0.899291</td>\n",
              "      <td>0.300946</td>\n",
              "      <td>0.0</td>\n",
              "      <td>1.00</td>\n",
              "      <td>1.00</td>\n",
              "      <td>1.00</td>\n",
              "      <td>1.00</td>\n",
              "    </tr>\n",
              "    <tr>\n",
              "      <th>currently_repaying_other_loans</th>\n",
              "      <td>46153.0</td>\n",
              "      <td>0.364332</td>\n",
              "      <td>0.481247</td>\n",
              "      <td>0.0</td>\n",
              "      <td>0.00</td>\n",
              "      <td>0.00</td>\n",
              "      <td>1.00</td>\n",
              "      <td>1.00</td>\n",
              "    </tr>\n",
              "    <tr>\n",
              "      <th>total_credit_card_limit</th>\n",
              "      <td>101100.0</td>\n",
              "      <td>4112.743818</td>\n",
              "      <td>2129.121462</td>\n",
              "      <td>0.0</td>\n",
              "      <td>2700.00</td>\n",
              "      <td>4100.00</td>\n",
              "      <td>5500.00</td>\n",
              "      <td>13500.00</td>\n",
              "    </tr>\n",
              "    <tr>\n",
              "      <th>avg_percentage_credit_card_limit_used_last_year</th>\n",
              "      <td>94128.0</td>\n",
              "      <td>0.724140</td>\n",
              "      <td>0.186483</td>\n",
              "      <td>0.0</td>\n",
              "      <td>0.60</td>\n",
              "      <td>0.73</td>\n",
              "      <td>0.86</td>\n",
              "      <td>1.09</td>\n",
              "    </tr>\n",
              "    <tr>\n",
              "      <th>saving_amount</th>\n",
              "      <td>101100.0</td>\n",
              "      <td>1799.617616</td>\n",
              "      <td>1400.545141</td>\n",
              "      <td>0.0</td>\n",
              "      <td>834.00</td>\n",
              "      <td>1339.00</td>\n",
              "      <td>2409.00</td>\n",
              "      <td>10641.00</td>\n",
              "    </tr>\n",
              "    <tr>\n",
              "      <th>checking_amount</th>\n",
              "      <td>101100.0</td>\n",
              "      <td>3177.150821</td>\n",
              "      <td>2044.448155</td>\n",
              "      <td>0.0</td>\n",
              "      <td>1706.00</td>\n",
              "      <td>2673.00</td>\n",
              "      <td>4241.00</td>\n",
              "      <td>13906.00</td>\n",
              "    </tr>\n",
              "    <tr>\n",
              "      <th>is_employed</th>\n",
              "      <td>101100.0</td>\n",
              "      <td>0.658675</td>\n",
              "      <td>0.474157</td>\n",
              "      <td>0.0</td>\n",
              "      <td>0.00</td>\n",
              "      <td>1.00</td>\n",
              "      <td>1.00</td>\n",
              "      <td>1.00</td>\n",
              "    </tr>\n",
              "    <tr>\n",
              "      <th>yearly_salary</th>\n",
              "      <td>101100.0</td>\n",
              "      <td>21020.727992</td>\n",
              "      <td>18937.581415</td>\n",
              "      <td>0.0</td>\n",
              "      <td>0.00</td>\n",
              "      <td>21500.00</td>\n",
              "      <td>35300.00</td>\n",
              "      <td>97200.00</td>\n",
              "    </tr>\n",
              "    <tr>\n",
              "      <th>age</th>\n",
              "      <td>101100.0</td>\n",
              "      <td>41.491632</td>\n",
              "      <td>12.825570</td>\n",
              "      <td>18.0</td>\n",
              "      <td>32.00</td>\n",
              "      <td>41.00</td>\n",
              "      <td>50.00</td>\n",
              "      <td>79.00</td>\n",
              "    </tr>\n",
              "    <tr>\n",
              "      <th>dependent_number</th>\n",
              "      <td>101100.0</td>\n",
              "      <td>3.864748</td>\n",
              "      <td>2.635491</td>\n",
              "      <td>0.0</td>\n",
              "      <td>2.00</td>\n",
              "      <td>3.00</td>\n",
              "      <td>6.00</td>\n",
              "      <td>8.00</td>\n",
              "    </tr>\n",
              "    <tr>\n",
              "      <th>loan_granted</th>\n",
              "      <td>101100.0</td>\n",
              "      <td>0.471355</td>\n",
              "      <td>0.499181</td>\n",
              "      <td>0.0</td>\n",
              "      <td>0.00</td>\n",
              "      <td>0.00</td>\n",
              "      <td>1.00</td>\n",
              "      <td>1.00</td>\n",
              "    </tr>\n",
              "    <tr>\n",
              "      <th>loan_repaid</th>\n",
              "      <td>47654.0</td>\n",
              "      <td>0.644353</td>\n",
              "      <td>0.478714</td>\n",
              "      <td>0.0</td>\n",
              "      <td>0.00</td>\n",
              "      <td>1.00</td>\n",
              "      <td>1.00</td>\n",
              "      <td>1.00</td>\n",
              "    </tr>\n",
              "  </tbody>\n",
              "</table>\n",
              "</div>"
            ],
            "text/plain": [
              "                                                    count           mean  \\\n",
              "loan_id                                          101100.0  499666.826726   \n",
              "is_first_loan                                    101100.0       0.543492   \n",
              "fully_repaid_previous_loans                       46153.0       0.899291   \n",
              "currently_repaying_other_loans                    46153.0       0.364332   \n",
              "total_credit_card_limit                          101100.0    4112.743818   \n",
              "avg_percentage_credit_card_limit_used_last_year   94128.0       0.724140   \n",
              "saving_amount                                    101100.0    1799.617616   \n",
              "checking_amount                                  101100.0    3177.150821   \n",
              "is_employed                                      101100.0       0.658675   \n",
              "yearly_salary                                    101100.0   21020.727992   \n",
              "age                                              101100.0      41.491632   \n",
              "dependent_number                                 101100.0       3.864748   \n",
              "loan_granted                                     101100.0       0.471355   \n",
              "loan_repaid                                       47654.0       0.644353   \n",
              "\n",
              "                                                           std   min  \\\n",
              "loan_id                                          288662.006929  30.0   \n",
              "is_first_loan                                         0.498107   0.0   \n",
              "fully_repaid_previous_loans                           0.300946   0.0   \n",
              "currently_repaying_other_loans                        0.481247   0.0   \n",
              "total_credit_card_limit                            2129.121462   0.0   \n",
              "avg_percentage_credit_card_limit_used_last_year       0.186483   0.0   \n",
              "saving_amount                                      1400.545141   0.0   \n",
              "checking_amount                                    2044.448155   0.0   \n",
              "is_employed                                           0.474157   0.0   \n",
              "yearly_salary                                     18937.581415   0.0   \n",
              "age                                                  12.825570  18.0   \n",
              "dependent_number                                      2.635491   0.0   \n",
              "loan_granted                                          0.499181   0.0   \n",
              "loan_repaid                                           0.478714   0.0   \n",
              "\n",
              "                                                       25%        50%  \\\n",
              "loan_id                                          250333.75  499885.00   \n",
              "is_first_loan                                         0.00       1.00   \n",
              "fully_repaid_previous_loans                           1.00       1.00   \n",
              "currently_repaying_other_loans                        0.00       0.00   \n",
              "total_credit_card_limit                            2700.00    4100.00   \n",
              "avg_percentage_credit_card_limit_used_last_year       0.60       0.73   \n",
              "saving_amount                                       834.00    1339.00   \n",
              "checking_amount                                    1706.00    2673.00   \n",
              "is_employed                                           0.00       1.00   \n",
              "yearly_salary                                         0.00   21500.00   \n",
              "age                                                  32.00      41.00   \n",
              "dependent_number                                      2.00       3.00   \n",
              "loan_granted                                          0.00       0.00   \n",
              "loan_repaid                                           0.00       1.00   \n",
              "\n",
              "                                                       75%        max  \n",
              "loan_id                                          749706.25  999987.00  \n",
              "is_first_loan                                         1.00       1.00  \n",
              "fully_repaid_previous_loans                           1.00       1.00  \n",
              "currently_repaying_other_loans                        1.00       1.00  \n",
              "total_credit_card_limit                            5500.00   13500.00  \n",
              "avg_percentage_credit_card_limit_used_last_year       0.86       1.09  \n",
              "saving_amount                                      2409.00   10641.00  \n",
              "checking_amount                                    4241.00   13906.00  \n",
              "is_employed                                           1.00       1.00  \n",
              "yearly_salary                                     35300.00   97200.00  \n",
              "age                                                  50.00      79.00  \n",
              "dependent_number                                      6.00       8.00  \n",
              "loan_granted                                          1.00       1.00  \n",
              "loan_repaid                                           1.00       1.00  "
            ]
          },
          "execution_count": 19,
          "metadata": {},
          "output_type": "execute_result"
        }
      ],
      "source": [
        "dataset.describe().T"
      ]
    },
    {
      "cell_type": "code",
      "execution_count": null,
      "id": "0aff75a6",
      "metadata": {
        "id": "0aff75a6",
        "outputId": "1455130d-6417-4979-f2af-1fc572cb5da5"
      },
      "outputs": [
        {
          "data": {
            "text/plain": [
              "<AxesSubplot:xlabel='loan_granted', ylabel='count'>"
            ]
          },
          "execution_count": 20,
          "metadata": {},
          "output_type": "execute_result"
        },
        {
          "data": {
            "image/png": "[encoded data removed]",
            "text/plain": [
              "<Figure size 432x288 with 1 Axes>"
            ]
          },
          "metadata": {
            "needs_background": "light"
          },
          "output_type": "display_data"
        }
      ],
      "source": [
        "sns.countplot(x=\"loan_granted\", data = dataset)"
      ]
    },
    {
      "cell_type": "code",
      "execution_count": null,
      "id": "20090062",
      "metadata": {
        "id": "20090062",
        "outputId": "94061f01-d89a-4bd9-9ed0-0202c38b1390"
      },
      "outputs": [
        {
          "data": {
            "text/plain": [
              "0    53446\n",
              "1    47654\n",
              "Name: loan_granted, dtype: int64"
            ]
          },
          "execution_count": 21,
          "metadata": {},
          "output_type": "execute_result"
        }
      ],
      "source": [
        "dataset['loan_granted'].value_counts()"
      ]
    },
    {
      "cell_type": "code",
      "execution_count": null,
      "id": "1c019325",
      "metadata": {
        "id": "1c019325",
        "outputId": "0b620612-8cf8-4194-c402-6c4e5a260ae6"
      },
      "outputs": [
        {
          "data": {
            "text/plain": [
              "0    0.528645\n",
              "1    0.471355\n",
              "Name: loan_granted, dtype: float64"
            ]
          },
          "execution_count": 22,
          "metadata": {},
          "output_type": "execute_result"
        }
      ],
      "source": [
        "dataset['loan_granted'].value_counts(normalize=True)"
      ]
    },
    {
      "cell_type": "code",
      "execution_count": null,
      "id": "7e46cdf2",
      "metadata": {
        "id": "7e46cdf2",
        "outputId": "87d6b0c1-8178-48f8-eba0-e7f7e10ad409"
      },
      "outputs": [
        {
          "data": {
            "image/png": "[encoded data removed]",
            "text/plain": [
              "<Figure size 432x288 with 1 Axes>"
            ]
          },
          "metadata": {
            "needs_background": "light"
          },
          "output_type": "display_data"
        }
      ],
      "source": [
        "sns.boxplot(x=\"checking_amount\", data=dataset)\n",
        "plt.show()"
      ]
    },
    {
      "cell_type": "code",
      "execution_count": null,
      "id": "fbda1eeb",
      "metadata": {
        "id": "fbda1eeb",
        "outputId": "3f7357b5-d4bd-4f4f-ad50-91057decd70e"
      },
      "outputs": [
        {
          "data": {
            "text/plain": [
              "<AxesSubplot:>"
            ]
          },
          "execution_count": 142,
          "metadata": {},
          "output_type": "execute_result"
        },
        {
          "data": {
            "image/png": "[encoded data removed]",
            "text/plain": [
              "<Figure size 432x288 with 1 Axes>"
            ]
          },
          "metadata": {
            "needs_background": "light"
          },
          "output_type": "display_data"
        }
      ],
      "source": [
        "dataset['saving_amount'].hist(bins=20)"
      ]
    },
    {
      "cell_type": "code",
      "execution_count": null,
      "id": "331fa1d2",
      "metadata": {
        "id": "331fa1d2",
        "outputId": "5e393dda-e533-4bb8-90c3-4af4635f6711"
      },
      "outputs": [
        {
          "data": {
            "image/png": "[encoded data removed]",
            "text/plain": [
              "<Figure size 864x720 with 2 Axes>"
            ]
          },
          "metadata": {
            "needs_background": "light"
          },
          "output_type": "display_data"
        }
      ],
      "source": [
        "plt.figure(figsize=(12,10))\n",
        "cor = dataset.corr()\n",
        "sns.heatmap(cor, annot=True, cmap=plt.cm.Reds)\n",
        "plt.show()"
      ]
    },
    {
      "cell_type": "code",
      "execution_count": null,
      "id": "5b8b6d35",
      "metadata": {
        "id": "5b8b6d35",
        "outputId": "bd445b4b-51b8-4f7e-d76a-406a62ada671"
      },
      "outputs": [
        {
          "name": "stdout",
          "output_type": "stream",
          "text": [
            "<class 'pandas.core.frame.DataFrame'>\n",
            "Int64Index: 101100 entries, 0 to 101099\n",
            "Data columns (total 16 columns):\n",
            " #   Column                                           Non-Null Count   Dtype  \n",
            "---  ------                                           --------------   -----  \n",
            " 0   loan_id                                          101100 non-null  int64  \n",
            " 1   is_first_loan                                    101100 non-null  int64  \n",
            " 2   fully_repaid_previous_loans                      46153 non-null   float64\n",
            " 3   currently_repaying_other_loans                   46153 non-null   float64\n",
            " 4   total_credit_card_limit                          101100 non-null  int64  \n",
            " 5   avg_percentage_credit_card_limit_used_last_year  94128 non-null   float64\n",
            " 6   saving_amount                                    101100 non-null  int64  \n",
            " 7   checking_amount                                  101100 non-null  int64  \n",
            " 8   is_employed                                      101100 non-null  int64  \n",
            " 9   yearly_salary                                    101100 non-null  int64  \n",
            " 10  age                                              101100 non-null  int64  \n",
            " 11  dependent_number                                 101100 non-null  int64  \n",
            " 12  loan_purpose                                     101100 non-null  object \n",
            " 13  date                                             101100 non-null  object \n",
            " 14  loan_granted                                     101100 non-null  int64  \n",
            " 15  loan_repaid                                      47654 non-null   float64\n",
            "dtypes: float64(4), int64(10), object(2)\n",
            "memory usage: 13.1+ MB\n"
          ]
        }
      ],
      "source": [
        "dataset.info()"
      ]
    },
    {
      "cell_type": "code",
      "execution_count": null,
      "id": "6f6cb454",
      "metadata": {
        "id": "6f6cb454"
      },
      "outputs": [],
      "source": [
        "dataset = dataset.drop(columns=['dependent_number', 'date', 'loan_repaid', 'loan_id'])"
      ]
    },
    {
      "cell_type": "code",
      "execution_count": null,
      "id": "bcc47492",
      "metadata": {
        "id": "bcc47492",
        "outputId": "dd54baf5-75a9-4900-e01b-8891f132f845"
      },
      "outputs": [
        {
          "data": {
            "text/plain": [
              "is_first_loan                                      False\n",
              "fully_repaid_previous_loans                         True\n",
              "currently_repaying_other_loans                      True\n",
              "total_credit_card_limit                            False\n",
              "avg_percentage_credit_card_limit_used_last_year     True\n",
              "saving_amount                                      False\n",
              "checking_amount                                    False\n",
              "is_employed                                        False\n",
              "yearly_salary                                      False\n",
              "age                                                False\n",
              "loan_purpose                                       False\n",
              "loan_granted                                       False\n",
              "dtype: bool"
            ]
          },
          "execution_count": 76,
          "metadata": {},
          "output_type": "execute_result"
        }
      ],
      "source": [
        "dataset.isnull().any()"
      ]
    },
    {
      "cell_type": "code",
      "execution_count": null,
      "id": "907dbb88",
      "metadata": {
        "id": "907dbb88"
      },
      "outputs": [],
      "source": [
        "dataset.dropna(subset = ['fully_repaid_previous_loans', 'currently_repaying_other_loans', 'avg_percentage_credit_card_limit_used_last_year'], inplace=True)"
      ]
    },
    {
      "cell_type": "code",
      "execution_count": null,
      "id": "dcef3e87",
      "metadata": {
        "id": "dcef3e87",
        "outputId": "8ac59e40-4728-489e-ed80-ff045fd0905f"
      },
      "outputs": [
        {
          "data": {
            "text/html": [
              "<div>\n",
              "<style scoped>\n",
              "    .dataframe tbody tr th:only-of-type {\n",
              "        vertical-align: middle;\n",
              "    }\n",
              "\n",
              "    .dataframe tbody tr th {\n",
              "        vertical-align: top;\n",
              "    }\n",
              "\n",
              "    .dataframe thead th {\n",
              "        text-align: right;\n",
              "    }\n",
              "</style>\n",
              "<table border=\"1\" class=\"dataframe\">\n",
              "  <thead>\n",
              "    <tr style=\"text-align: right;\">\n",
              "      <th></th>\n",
              "      <th>is_first_loan</th>\n",
              "      <th>fully_repaid_previous_loans</th>\n",
              "      <th>currently_repaying_other_loans</th>\n",
              "      <th>total_credit_card_limit</th>\n",
              "      <th>avg_percentage_credit_card_limit_used_last_year</th>\n",
              "      <th>saving_amount</th>\n",
              "      <th>checking_amount</th>\n",
              "      <th>is_employed</th>\n",
              "      <th>yearly_salary</th>\n",
              "      <th>age</th>\n",
              "      <th>loan_purpose</th>\n",
              "      <th>loan_granted</th>\n",
              "    </tr>\n",
              "  </thead>\n",
              "  <tbody>\n",
              "    <tr>\n",
              "      <th>1</th>\n",
              "      <td>0</td>\n",
              "      <td>1.0</td>\n",
              "      <td>0.0</td>\n",
              "      <td>4500</td>\n",
              "      <td>1.03</td>\n",
              "      <td>636</td>\n",
              "      <td>5299</td>\n",
              "      <td>1</td>\n",
              "      <td>13500</td>\n",
              "      <td>33</td>\n",
              "      <td>investment</td>\n",
              "      <td>0</td>\n",
              "    </tr>\n",
              "    <tr>\n",
              "      <th>3</th>\n",
              "      <td>0</td>\n",
              "      <td>1.0</td>\n",
              "      <td>0.0</td>\n",
              "      <td>1200</td>\n",
              "      <td>0.82</td>\n",
              "      <td>358</td>\n",
              "      <td>3388</td>\n",
              "      <td>0</td>\n",
              "      <td>0</td>\n",
              "      <td>24</td>\n",
              "      <td>investment</td>\n",
              "      <td>0</td>\n",
              "    </tr>\n",
              "    <tr>\n",
              "      <th>4</th>\n",
              "      <td>0</td>\n",
              "      <td>0.0</td>\n",
              "      <td>0.0</td>\n",
              "      <td>6900</td>\n",
              "      <td>0.80</td>\n",
              "      <td>2138</td>\n",
              "      <td>4282</td>\n",
              "      <td>1</td>\n",
              "      <td>18100</td>\n",
              "      <td>36</td>\n",
              "      <td>emergency_funds</td>\n",
              "      <td>0</td>\n",
              "    </tr>\n",
              "    <tr>\n",
              "      <th>8</th>\n",
              "      <td>0</td>\n",
              "      <td>1.0</td>\n",
              "      <td>0.0</td>\n",
              "      <td>7000</td>\n",
              "      <td>0.52</td>\n",
              "      <td>2575</td>\n",
              "      <td>2917</td>\n",
              "      <td>1</td>\n",
              "      <td>58900</td>\n",
              "      <td>33</td>\n",
              "      <td>emergency_funds</td>\n",
              "      <td>1</td>\n",
              "    </tr>\n",
              "    <tr>\n",
              "      <th>9</th>\n",
              "      <td>0</td>\n",
              "      <td>1.0</td>\n",
              "      <td>0.0</td>\n",
              "      <td>4300</td>\n",
              "      <td>0.83</td>\n",
              "      <td>722</td>\n",
              "      <td>892</td>\n",
              "      <td>1</td>\n",
              "      <td>5400</td>\n",
              "      <td>32</td>\n",
              "      <td>business</td>\n",
              "      <td>1</td>\n",
              "    </tr>\n",
              "    <tr>\n",
              "      <th>...</th>\n",
              "      <td>...</td>\n",
              "      <td>...</td>\n",
              "      <td>...</td>\n",
              "      <td>...</td>\n",
              "      <td>...</td>\n",
              "      <td>...</td>\n",
              "      <td>...</td>\n",
              "      <td>...</td>\n",
              "      <td>...</td>\n",
              "      <td>...</td>\n",
              "      <td>...</td>\n",
              "      <td>...</td>\n",
              "    </tr>\n",
              "    <tr>\n",
              "      <th>101087</th>\n",
              "      <td>0</td>\n",
              "      <td>1.0</td>\n",
              "      <td>1.0</td>\n",
              "      <td>2200</td>\n",
              "      <td>0.87</td>\n",
              "      <td>1914</td>\n",
              "      <td>1595</td>\n",
              "      <td>1</td>\n",
              "      <td>24100</td>\n",
              "      <td>35</td>\n",
              "      <td>emergency_funds</td>\n",
              "      <td>0</td>\n",
              "    </tr>\n",
              "    <tr>\n",
              "      <th>101088</th>\n",
              "      <td>0</td>\n",
              "      <td>0.0</td>\n",
              "      <td>0.0</td>\n",
              "      <td>5900</td>\n",
              "      <td>0.71</td>\n",
              "      <td>2696</td>\n",
              "      <td>2844</td>\n",
              "      <td>1</td>\n",
              "      <td>44500</td>\n",
              "      <td>25</td>\n",
              "      <td>business</td>\n",
              "      <td>1</td>\n",
              "    </tr>\n",
              "    <tr>\n",
              "      <th>101090</th>\n",
              "      <td>0</td>\n",
              "      <td>1.0</td>\n",
              "      <td>0.0</td>\n",
              "      <td>3000</td>\n",
              "      <td>0.67</td>\n",
              "      <td>635</td>\n",
              "      <td>3335</td>\n",
              "      <td>1</td>\n",
              "      <td>7800</td>\n",
              "      <td>41</td>\n",
              "      <td>business</td>\n",
              "      <td>1</td>\n",
              "    </tr>\n",
              "    <tr>\n",
              "      <th>101092</th>\n",
              "      <td>0</td>\n",
              "      <td>1.0</td>\n",
              "      <td>1.0</td>\n",
              "      <td>4200</td>\n",
              "      <td>0.77</td>\n",
              "      <td>3863</td>\n",
              "      <td>3929</td>\n",
              "      <td>1</td>\n",
              "      <td>42100</td>\n",
              "      <td>75</td>\n",
              "      <td>emergency_funds</td>\n",
              "      <td>0</td>\n",
              "    </tr>\n",
              "    <tr>\n",
              "      <th>101098</th>\n",
              "      <td>0</td>\n",
              "      <td>1.0</td>\n",
              "      <td>0.0</td>\n",
              "      <td>7000</td>\n",
              "      <td>0.82</td>\n",
              "      <td>354</td>\n",
              "      <td>1435</td>\n",
              "      <td>1</td>\n",
              "      <td>41900</td>\n",
              "      <td>44</td>\n",
              "      <td>investment</td>\n",
              "      <td>1</td>\n",
              "    </tr>\n",
              "  </tbody>\n",
              "</table>\n",
              "<p>43007 rows × 12 columns</p>\n",
              "</div>"
            ],
            "text/plain": [
              "        is_first_loan  fully_repaid_previous_loans  \\\n",
              "1                   0                          1.0   \n",
              "3                   0                          1.0   \n",
              "4                   0                          0.0   \n",
              "8                   0                          1.0   \n",
              "9                   0                          1.0   \n",
              "...               ...                          ...   \n",
              "101087              0                          1.0   \n",
              "101088              0                          0.0   \n",
              "101090              0                          1.0   \n",
              "101092              0                          1.0   \n",
              "101098              0                          1.0   \n",
              "\n",
              "        currently_repaying_other_loans  total_credit_card_limit  \\\n",
              "1                                  0.0                     4500   \n",
              "3                                  0.0                     1200   \n",
              "4                                  0.0                     6900   \n",
              "8                                  0.0                     7000   \n",
              "9                                  0.0                     4300   \n",
              "...                                ...                      ...   \n",
              "101087                             1.0                     2200   \n",
              "101088                             0.0                     5900   \n",
              "101090                             0.0                     3000   \n",
              "101092                             1.0                     4200   \n",
              "101098                             0.0                     7000   \n",
              "\n",
              "        avg_percentage_credit_card_limit_used_last_year  saving_amount  \\\n",
              "1                                                  1.03            636   \n",
              "3                                                  0.82            358   \n",
              "4                                                  0.80           2138   \n",
              "8                                                  0.52           2575   \n",
              "9                                                  0.83            722   \n",
              "...                                                 ...            ...   \n",
              "101087                                             0.87           1914   \n",
              "101088                                             0.71           2696   \n",
              "101090                                             0.67            635   \n",
              "101092                                             0.77           3863   \n",
              "101098                                             0.82            354   \n",
              "\n",
              "        checking_amount  is_employed  yearly_salary  age     loan_purpose  \\\n",
              "1                  5299            1          13500   33       investment   \n",
              "3                  3388            0              0   24       investment   \n",
              "4                  4282            1          18100   36  emergency_funds   \n",
              "8                  2917            1          58900   33  emergency_funds   \n",
              "9                   892            1           5400   32         business   \n",
              "...                 ...          ...            ...  ...              ...   \n",
              "101087             1595            1          24100   35  emergency_funds   \n",
              "101088             2844            1          44500   25         business   \n",
              "101090             3335            1           7800   41         business   \n",
              "101092             3929            1          42100   75  emergency_funds   \n",
              "101098             1435            1          41900   44       investment   \n",
              "\n",
              "        loan_granted  \n",
              "1                  0  \n",
              "3                  0  \n",
              "4                  0  \n",
              "8                  1  \n",
              "9                  1  \n",
              "...              ...  \n",
              "101087             0  \n",
              "101088             1  \n",
              "101090             1  \n",
              "101092             0  \n",
              "101098             1  \n",
              "\n",
              "[43007 rows x 12 columns]"
            ]
          },
          "execution_count": 78,
          "metadata": {},
          "output_type": "execute_result"
        }
      ],
      "source": [
        "dataset"
      ]
    },
    {
      "cell_type": "code",
      "execution_count": null,
      "id": "7a397b34",
      "metadata": {
        "id": "7a397b34",
        "outputId": "aa5ff880-bd68-4d6b-d128-8e82025f565c"
      },
      "outputs": [
        {
          "data": {
            "text/plain": [
              "(43007, 12)"
            ]
          },
          "execution_count": 48,
          "metadata": {},
          "output_type": "execute_result"
        }
      ],
      "source": [
        "dataset.shape"
      ]
    },
    {
      "cell_type": "code",
      "execution_count": null,
      "id": "1d22a31d",
      "metadata": {
        "id": "1d22a31d",
        "outputId": "cf829f26-4988-4ca6-86d9-1d1604b43bc1"
      },
      "outputs": [
        {
          "data": {
            "text/plain": [
              "0    21569\n",
              "1    21438\n",
              "Name: loan_granted, dtype: int64"
            ]
          },
          "execution_count": 49,
          "metadata": {},
          "output_type": "execute_result"
        }
      ],
      "source": [
        "dataset['loan_granted'].value_counts()"
      ]
    },
    {
      "cell_type": "code",
      "execution_count": null,
      "id": "60ff62f2",
      "metadata": {
        "id": "60ff62f2",
        "outputId": "482edaed-2ae2-48c7-8998-beddf8163201"
      },
      "outputs": [
        {
          "data": {
            "text/plain": [
              "False"
            ]
          },
          "execution_count": 79,
          "metadata": {},
          "output_type": "execute_result"
        }
      ],
      "source": [
        "dataset.duplicated().any()"
      ]
    },
    {
      "cell_type": "code",
      "execution_count": null,
      "id": "82452f0c",
      "metadata": {
        "id": "82452f0c"
      },
      "outputs": [],
      "source": [
        "from sklearn.preprocessing import OrdinalEncoder\n",
        "ord_enc = OrdinalEncoder()\n",
        "dataset[['loan_purpose']] = ord_enc.fit_transform(dataset[['loan_purpose']])"
      ]
    },
    {
      "cell_type": "code",
      "execution_count": null,
      "id": "cab30bd9",
      "metadata": {
        "id": "cab30bd9",
        "outputId": "3259d7cf-9bf3-4fcc-81a7-273d1904acfc"
      },
      "outputs": [
        {
          "data": {
            "text/html": [
              "<div>\n",
              "<style scoped>\n",
              "    .dataframe tbody tr th:only-of-type {\n",
              "        vertical-align: middle;\n",
              "    }\n",
              "\n",
              "    .dataframe tbody tr th {\n",
              "        vertical-align: top;\n",
              "    }\n",
              "\n",
              "    .dataframe thead th {\n",
              "        text-align: right;\n",
              "    }\n",
              "</style>\n",
              "<table border=\"1\" class=\"dataframe\">\n",
              "  <thead>\n",
              "    <tr style=\"text-align: right;\">\n",
              "      <th></th>\n",
              "      <th>is_first_loan</th>\n",
              "      <th>fully_repaid_previous_loans</th>\n",
              "      <th>currently_repaying_other_loans</th>\n",
              "      <th>total_credit_card_limit</th>\n",
              "      <th>avg_percentage_credit_card_limit_used_last_year</th>\n",
              "      <th>saving_amount</th>\n",
              "      <th>checking_amount</th>\n",
              "      <th>is_employed</th>\n",
              "      <th>yearly_salary</th>\n",
              "      <th>age</th>\n",
              "      <th>loan_purpose</th>\n",
              "      <th>loan_granted</th>\n",
              "    </tr>\n",
              "  </thead>\n",
              "  <tbody>\n",
              "    <tr>\n",
              "      <th>1</th>\n",
              "      <td>0</td>\n",
              "      <td>1.0</td>\n",
              "      <td>0.0</td>\n",
              "      <td>4500</td>\n",
              "      <td>1.03</td>\n",
              "      <td>636</td>\n",
              "      <td>5299</td>\n",
              "      <td>1</td>\n",
              "      <td>13500</td>\n",
              "      <td>33</td>\n",
              "      <td>3.0</td>\n",
              "      <td>0</td>\n",
              "    </tr>\n",
              "    <tr>\n",
              "      <th>3</th>\n",
              "      <td>0</td>\n",
              "      <td>1.0</td>\n",
              "      <td>0.0</td>\n",
              "      <td>1200</td>\n",
              "      <td>0.82</td>\n",
              "      <td>358</td>\n",
              "      <td>3388</td>\n",
              "      <td>0</td>\n",
              "      <td>0</td>\n",
              "      <td>24</td>\n",
              "      <td>3.0</td>\n",
              "      <td>0</td>\n",
              "    </tr>\n",
              "    <tr>\n",
              "      <th>4</th>\n",
              "      <td>0</td>\n",
              "      <td>0.0</td>\n",
              "      <td>0.0</td>\n",
              "      <td>6900</td>\n",
              "      <td>0.80</td>\n",
              "      <td>2138</td>\n",
              "      <td>4282</td>\n",
              "      <td>1</td>\n",
              "      <td>18100</td>\n",
              "      <td>36</td>\n",
              "      <td>1.0</td>\n",
              "      <td>0</td>\n",
              "    </tr>\n",
              "    <tr>\n",
              "      <th>8</th>\n",
              "      <td>0</td>\n",
              "      <td>1.0</td>\n",
              "      <td>0.0</td>\n",
              "      <td>7000</td>\n",
              "      <td>0.52</td>\n",
              "      <td>2575</td>\n",
              "      <td>2917</td>\n",
              "      <td>1</td>\n",
              "      <td>58900</td>\n",
              "      <td>33</td>\n",
              "      <td>1.0</td>\n",
              "      <td>1</td>\n",
              "    </tr>\n",
              "    <tr>\n",
              "      <th>9</th>\n",
              "      <td>0</td>\n",
              "      <td>1.0</td>\n",
              "      <td>0.0</td>\n",
              "      <td>4300</td>\n",
              "      <td>0.83</td>\n",
              "      <td>722</td>\n",
              "      <td>892</td>\n",
              "      <td>1</td>\n",
              "      <td>5400</td>\n",
              "      <td>32</td>\n",
              "      <td>0.0</td>\n",
              "      <td>1</td>\n",
              "    </tr>\n",
              "    <tr>\n",
              "      <th>...</th>\n",
              "      <td>...</td>\n",
              "      <td>...</td>\n",
              "      <td>...</td>\n",
              "      <td>...</td>\n",
              "      <td>...</td>\n",
              "      <td>...</td>\n",
              "      <td>...</td>\n",
              "      <td>...</td>\n",
              "      <td>...</td>\n",
              "      <td>...</td>\n",
              "      <td>...</td>\n",
              "      <td>...</td>\n",
              "    </tr>\n",
              "    <tr>\n",
              "      <th>101087</th>\n",
              "      <td>0</td>\n",
              "      <td>1.0</td>\n",
              "      <td>1.0</td>\n",
              "      <td>2200</td>\n",
              "      <td>0.87</td>\n",
              "      <td>1914</td>\n",
              "      <td>1595</td>\n",
              "      <td>1</td>\n",
              "      <td>24100</td>\n",
              "      <td>35</td>\n",
              "      <td>1.0</td>\n",
              "      <td>0</td>\n",
              "    </tr>\n",
              "    <tr>\n",
              "      <th>101088</th>\n",
              "      <td>0</td>\n",
              "      <td>0.0</td>\n",
              "      <td>0.0</td>\n",
              "      <td>5900</td>\n",
              "      <td>0.71</td>\n",
              "      <td>2696</td>\n",
              "      <td>2844</td>\n",
              "      <td>1</td>\n",
              "      <td>44500</td>\n",
              "      <td>25</td>\n",
              "      <td>0.0</td>\n",
              "      <td>1</td>\n",
              "    </tr>\n",
              "    <tr>\n",
              "      <th>101090</th>\n",
              "      <td>0</td>\n",
              "      <td>1.0</td>\n",
              "      <td>0.0</td>\n",
              "      <td>3000</td>\n",
              "      <td>0.67</td>\n",
              "      <td>635</td>\n",
              "      <td>3335</td>\n",
              "      <td>1</td>\n",
              "      <td>7800</td>\n",
              "      <td>41</td>\n",
              "      <td>0.0</td>\n",
              "      <td>1</td>\n",
              "    </tr>\n",
              "    <tr>\n",
              "      <th>101092</th>\n",
              "      <td>0</td>\n",
              "      <td>1.0</td>\n",
              "      <td>1.0</td>\n",
              "      <td>4200</td>\n",
              "      <td>0.77</td>\n",
              "      <td>3863</td>\n",
              "      <td>3929</td>\n",
              "      <td>1</td>\n",
              "      <td>42100</td>\n",
              "      <td>75</td>\n",
              "      <td>1.0</td>\n",
              "      <td>0</td>\n",
              "    </tr>\n",
              "    <tr>\n",
              "      <th>101098</th>\n",
              "      <td>0</td>\n",
              "      <td>1.0</td>\n",
              "      <td>0.0</td>\n",
              "      <td>7000</td>\n",
              "      <td>0.82</td>\n",
              "      <td>354</td>\n",
              "      <td>1435</td>\n",
              "      <td>1</td>\n",
              "      <td>41900</td>\n",
              "      <td>44</td>\n",
              "      <td>3.0</td>\n",
              "      <td>1</td>\n",
              "    </tr>\n",
              "  </tbody>\n",
              "</table>\n",
              "<p>43007 rows × 12 columns</p>\n",
              "</div>"
            ],
            "text/plain": [
              "        is_first_loan  fully_repaid_previous_loans  \\\n",
              "1                   0                          1.0   \n",
              "3                   0                          1.0   \n",
              "4                   0                          0.0   \n",
              "8                   0                          1.0   \n",
              "9                   0                          1.0   \n",
              "...               ...                          ...   \n",
              "101087              0                          1.0   \n",
              "101088              0                          0.0   \n",
              "101090              0                          1.0   \n",
              "101092              0                          1.0   \n",
              "101098              0                          1.0   \n",
              "\n",
              "        currently_repaying_other_loans  total_credit_card_limit  \\\n",
              "1                                  0.0                     4500   \n",
              "3                                  0.0                     1200   \n",
              "4                                  0.0                     6900   \n",
              "8                                  0.0                     7000   \n",
              "9                                  0.0                     4300   \n",
              "...                                ...                      ...   \n",
              "101087                             1.0                     2200   \n",
              "101088                             0.0                     5900   \n",
              "101090                             0.0                     3000   \n",
              "101092                             1.0                     4200   \n",
              "101098                             0.0                     7000   \n",
              "\n",
              "        avg_percentage_credit_card_limit_used_last_year  saving_amount  \\\n",
              "1                                                  1.03            636   \n",
              "3                                                  0.82            358   \n",
              "4                                                  0.80           2138   \n",
              "8                                                  0.52           2575   \n",
              "9                                                  0.83            722   \n",
              "...                                                 ...            ...   \n",
              "101087                                             0.87           1914   \n",
              "101088                                             0.71           2696   \n",
              "101090                                             0.67            635   \n",
              "101092                                             0.77           3863   \n",
              "101098                                             0.82            354   \n",
              "\n",
              "        checking_amount  is_employed  yearly_salary  age  loan_purpose  \\\n",
              "1                  5299            1          13500   33           3.0   \n",
              "3                  3388            0              0   24           3.0   \n",
              "4                  4282            1          18100   36           1.0   \n",
              "8                  2917            1          58900   33           1.0   \n",
              "9                   892            1           5400   32           0.0   \n",
              "...                 ...          ...            ...  ...           ...   \n",
              "101087             1595            1          24100   35           1.0   \n",
              "101088             2844            1          44500   25           0.0   \n",
              "101090             3335            1           7800   41           0.0   \n",
              "101092             3929            1          42100   75           1.0   \n",
              "101098             1435            1          41900   44           3.0   \n",
              "\n",
              "        loan_granted  \n",
              "1                  0  \n",
              "3                  0  \n",
              "4                  0  \n",
              "8                  1  \n",
              "9                  1  \n",
              "...              ...  \n",
              "101087             0  \n",
              "101088             1  \n",
              "101090             1  \n",
              "101092             0  \n",
              "101098             1  \n",
              "\n",
              "[43007 rows x 12 columns]"
            ]
          },
          "execution_count": 52,
          "metadata": {},
          "output_type": "execute_result"
        }
      ],
      "source": [
        "dataset"
      ]
    },
    {
      "cell_type": "code",
      "execution_count": null,
      "id": "0e68d30f",
      "metadata": {
        "id": "0e68d30f"
      },
      "outputs": [],
      "source": [
        "from sklearn import preprocessing\n",
        "x = dataset.drop(columns=['loan_granted'], axis=1)\n",
        "min_max_scaler = preprocessing.MinMaxScaler()\n",
        "x_scaled = min_max_scaler.fit_transform(x)"
      ]
    },
    {
      "cell_type": "markdown",
      "id": "db2086fa",
      "metadata": {
        "id": "db2086fa"
      },
      "source": [
        "## Assigning target variables and values/Splitting test and train data"
      ]
    },
    {
      "cell_type": "code",
      "execution_count": null,
      "id": "98f10597",
      "metadata": {
        "id": "98f10597"
      },
      "outputs": [],
      "source": [
        "from sklearn import preprocessing\n",
        "#create a dataframe with all training data except the target column\n",
        "X = x_scaled"
      ]
    },
    {
      "cell_type": "code",
      "execution_count": null,
      "id": "d5e0826f",
      "metadata": {
        "id": "d5e0826f"
      },
      "outputs": [],
      "source": [
        "#separate target values\n",
        "y = dataset['loan_granted'].values"
      ]
    },
    {
      "cell_type": "code",
      "execution_count": null,
      "id": "699ab345",
      "metadata": {
        "id": "699ab345"
      },
      "outputs": [],
      "source": [
        "from sklearn.model_selection import train_test_split\n",
        "#split dataset into train and test data\n",
        "X_train, X_test, y_train, y_test = train_test_split(X, y, test_size=0.2, random_state=1, stratify=y)"
      ]
    },
    {
      "cell_type": "markdown",
      "id": "c325262c",
      "metadata": {
        "id": "c325262c"
      },
      "source": [
        "## Confusion matrix and Classification Metrics Function"
      ]
    },
    {
      "cell_type": "code",
      "execution_count": null,
      "id": "7a794431",
      "metadata": {
        "id": "7a794431"
      },
      "outputs": [],
      "source": [
        "from sklearn.metrics import confusion_matrix\n",
        "from sklearn.metrics import accuracy_score\n",
        "from sklearn import metrics\n",
        "def cnf_matrix(y_test, y_pred):\n",
        "    cnf_mtx = confusion_matrix(y_test, y_pred)\n",
        "    return cnf_mtx"
      ]
    },
    {
      "cell_type": "code",
      "execution_count": null,
      "id": "42a36df1",
      "metadata": {
        "id": "42a36df1"
      },
      "outputs": [],
      "source": [
        "def cnf_mtx_values(cnf_matrix):\n",
        "    TN = cnf_matrix[0][0]\n",
        "    FN = cnf_matrix[1][0]\n",
        "    TP = cnf_matrix[1][1]\n",
        "    FP = cnf_matrix[0][1]\n",
        "    TPR=TP/(TP+FN)\n",
        "    TNR = TN/(TN+FP)\n",
        "    Precision = TP/(TP+FP)\n",
        "    Recall = TP/(TP+FN)\n",
        "    return TPR, TNR, Precision, Recall"
      ]
    },
    {
      "cell_type": "markdown",
      "id": "43ee7a48",
      "metadata": {
        "id": "43ee7a48"
      },
      "source": [
        "## Naive Bayesian Classifier"
      ]
    },
    {
      "cell_type": "code",
      "execution_count": null,
      "id": "72ffe3c2",
      "metadata": {
        "id": "72ffe3c2"
      },
      "outputs": [],
      "source": [
        "#Import Gaussian Naive Bayes model\n",
        "from sklearn.naive_bayes import GaussianNB\n",
        "#Create a Gaussian Classifier\n",
        "nb = GaussianNB()\n",
        "# Fit the classifier to the data\n",
        "nb.fit(X_train,y_train)\n",
        "y_pred_nb  = nb.predict(X_test)"
      ]
    },
    {
      "cell_type": "code",
      "execution_count": null,
      "id": "6044088c",
      "metadata": {
        "id": "6044088c",
        "outputId": "4d57a48a-84be-4e3a-e6d8-f62a3fcfa8bf"
      },
      "outputs": [
        {
          "data": {
            "text/plain": [
              "0.74517554057196"
            ]
          },
          "execution_count": 89,
          "metadata": {},
          "output_type": "execute_result"
        }
      ],
      "source": [
        "acc_score_nb = accuracy_score(y_test, y_pred_nb)\n",
        "acc_score_nb"
      ]
    },
    {
      "cell_type": "code",
      "execution_count": null,
      "id": "54d94265",
      "metadata": {
        "id": "54d94265",
        "outputId": "cea875e4-e296-4fba-d4d1-759249a54085"
      },
      "outputs": [
        {
          "data": {
            "text/plain": [
              "array([[2626, 1688],\n",
              "       [ 504, 3784]], dtype=int64)"
            ]
          },
          "execution_count": 90,
          "metadata": {},
          "output_type": "execute_result"
        }
      ],
      "source": [
        "cnf_matrix_nb = cnf_matrix(y_test, y_pred_nb)\n",
        "cnf_matrix_nb"
      ]
    },
    {
      "cell_type": "code",
      "execution_count": null,
      "id": "db45ee92",
      "metadata": {
        "id": "db45ee92",
        "outputId": "c1bc28df-beff-4411-c3f5-7be1ea050b8c"
      },
      "outputs": [
        {
          "data": {
            "text/plain": [
              "(0.8824626865671642,\n",
              " 0.6087158089939732,\n",
              " 0.6915204678362573,\n",
              " 0.8824626865671642)"
            ]
          },
          "execution_count": 91,
          "metadata": {},
          "output_type": "execute_result"
        }
      ],
      "source": [
        "cnf_matrix_nb_values = cnf_mtx_values(cnf_matrix_nb)\n",
        "cnf_matrix_nb_values"
      ]
    },
    {
      "cell_type": "code",
      "execution_count": null,
      "id": "16c7a751",
      "metadata": {
        "id": "16c7a751",
        "outputId": "a98d8558-28f3-4cb0-bcba-eba59476de6c"
      },
      "outputs": [
        {
          "data": {
            "text/plain": [
              "0.7455892477805686"
            ]
          },
          "execution_count": 141,
          "metadata": {},
          "output_type": "execute_result"
        }
      ],
      "source": [
        "from sklearn.metrics import roc_curve\n",
        "from sklearn.metrics import roc_auc_score\n",
        "roc = roc_curve(y_test, y_pred_nb)\n",
        "auc_score_nb = roc_auc_score(y_test, y_pred_nb)\n",
        "auc_score_nb"
      ]
    },
    {
      "cell_type": "markdown",
      "id": "d054d702",
      "metadata": {
        "id": "d054d702"
      },
      "source": [
        "## Logistic Regression Classifier"
      ]
    },
    {
      "cell_type": "code",
      "execution_count": null,
      "id": "8364490a",
      "metadata": {
        "id": "8364490a"
      },
      "outputs": [],
      "source": [
        "from sklearn import linear_model\n",
        "lr = linear_model.LogisticRegression()\n",
        "lr.fit(X_train, y_train)\n",
        "\n",
        "y_pred_lr = lr.predict(X_test)"
      ]
    },
    {
      "cell_type": "code",
      "execution_count": null,
      "id": "9459acf6",
      "metadata": {
        "id": "9459acf6",
        "outputId": "abaad379-9cad-423b-9f2f-bfb16ea75cd2"
      },
      "outputs": [
        {
          "data": {
            "text/plain": [
              "0.7478493373634039"
            ]
          },
          "execution_count": 94,
          "metadata": {},
          "output_type": "execute_result"
        }
      ],
      "source": [
        "acc_score_lr = accuracy_score(y_test, y_pred_lr)\n",
        "acc_score_lr"
      ]
    },
    {
      "cell_type": "code",
      "execution_count": null,
      "id": "31c3855a",
      "metadata": {
        "id": "31c3855a",
        "outputId": "c37e0332-6222-418d-9cc9-10c579faa4d2"
      },
      "outputs": [
        {
          "data": {
            "text/plain": [
              "array([[2485, 1829],\n",
              "       [ 340, 3948]], dtype=int64)"
            ]
          },
          "execution_count": 95,
          "metadata": {},
          "output_type": "execute_result"
        }
      ],
      "source": [
        "cnf_matrix_lr = cnf_matrix(y_test, y_pred_lr)\n",
        "cnf_matrix_lr"
      ]
    },
    {
      "cell_type": "code",
      "execution_count": null,
      "id": "3459c72c",
      "metadata": {
        "id": "3459c72c",
        "outputId": "dcf2faff-859a-46b2-c440-2b867a1dda12"
      },
      "outputs": [
        {
          "data": {
            "text/plain": [
              "(0.9207089552238806, 0.576031525266574, 0.683399688419595, 0.9207089552238806)"
            ]
          },
          "execution_count": 96,
          "metadata": {},
          "output_type": "execute_result"
        }
      ],
      "source": [
        "cnf_matrix_lr_values = cnf_mtx_values(cnf_matrix_lr)\n",
        "cnf_matrix_lr_values"
      ]
    },
    {
      "cell_type": "code",
      "execution_count": null,
      "id": "ef339241",
      "metadata": {
        "id": "ef339241",
        "outputId": "12b2f1f1-6747-4e5e-ab27-04753b9e6ff2"
      },
      "outputs": [
        {
          "data": {
            "text/plain": [
              "0.7483702402452274"
            ]
          },
          "execution_count": 123,
          "metadata": {},
          "output_type": "execute_result"
        }
      ],
      "source": [
        "roc = roc_curve(y_test, y_pred_lr)\n",
        "auc_score_lr = roc_auc_score(y_test, y_pred_lr)\n",
        "auc_score_lr"
      ]
    },
    {
      "cell_type": "markdown",
      "id": "f233e4af",
      "metadata": {
        "id": "f233e4af"
      },
      "source": [
        "## K-Nearest Neighbors Classifier"
      ]
    },
    {
      "cell_type": "code",
      "execution_count": null,
      "id": "9836f6d5",
      "metadata": {
        "id": "9836f6d5"
      },
      "outputs": [],
      "source": [
        "from sklearn.neighbors import KNeighborsClassifier\n",
        "# Create KNN classifier\n",
        "knn = KNeighborsClassifier(n_neighbors = 3)\n",
        "# Fit the classifier to the data\n",
        "knn.fit(X_train,y_train)\n",
        "y_pred_knn = knn.predict(X_test)"
      ]
    },
    {
      "cell_type": "code",
      "execution_count": null,
      "id": "1804cb56",
      "metadata": {
        "id": "1804cb56",
        "outputId": "bc449cd6-e356-4c47-c7b6-e7426cc452c4"
      },
      "outputs": [
        {
          "data": {
            "text/plain": [
              "0.6868170192978377"
            ]
          },
          "execution_count": 100,
          "metadata": {},
          "output_type": "execute_result"
        }
      ],
      "source": [
        "acc_score_knn = accuracy_score(y_test, y_pred_knn)\n",
        "acc_score_knn"
      ]
    },
    {
      "cell_type": "code",
      "execution_count": null,
      "id": "4d3306cf",
      "metadata": {
        "id": "4d3306cf",
        "outputId": "74812c7c-9b3d-46b2-c48b-402216b2deee"
      },
      "outputs": [
        {
          "data": {
            "text/plain": [
              "array([[2830, 1484],\n",
              "       [1210, 3078]], dtype=int64)"
            ]
          },
          "execution_count": 101,
          "metadata": {},
          "output_type": "execute_result"
        }
      ],
      "source": [
        "cnf_matrix_knn = cnf_matrix(y_test, y_pred_knn)\n",
        "cnf_matrix_knn"
      ]
    },
    {
      "cell_type": "code",
      "execution_count": null,
      "id": "f9c03c71",
      "metadata": {
        "id": "f9c03c71",
        "outputId": "1248bb85-1ab1-4271-ae6f-3e63f56d2f18"
      },
      "outputs": [
        {
          "data": {
            "text/plain": [
              "(0.7178171641791045, 0.656003708854891, 0.6747040771591407, 0.7178171641791045)"
            ]
          },
          "execution_count": 102,
          "metadata": {},
          "output_type": "execute_result"
        }
      ],
      "source": [
        "cnf_matrix_knn_values = cnf_mtx_values(cnf_matrix_knn)\n",
        "cnf_matrix_knn_values"
      ]
    },
    {
      "cell_type": "code",
      "execution_count": null,
      "id": "2c94222d",
      "metadata": {
        "id": "2c94222d",
        "outputId": "f0b6eaf2-3af5-4303-ee6b-67ce90ce76a0"
      },
      "outputs": [
        {
          "data": {
            "text/plain": [
              "0.7546078500058817"
            ]
          },
          "execution_count": 140,
          "metadata": {},
          "output_type": "execute_result"
        }
      ],
      "source": [
        "roc = roc_curve(y_test, y_pred_knn)\n",
        "auc_score_knn = roc_auc_score(y_test, y_pred_knn)\n",
        "auc_score_knn"
      ]
    },
    {
      "cell_type": "markdown",
      "id": "53d9ec86",
      "metadata": {
        "id": "53d9ec86"
      },
      "source": [
        "## Improving model performance by hyperparameter tuning"
      ]
    },
    {
      "cell_type": "code",
      "execution_count": null,
      "id": "68e84767",
      "metadata": {
        "id": "68e84767",
        "outputId": "d23aeaaa-b46c-4a6f-dd8e-ab974da24eb9"
      },
      "outputs": [
        {
          "data": {
            "text/plain": [
              "array([0.64926761, 0.61985585, 0.68681702, 0.66147408, 0.71215996,\n",
              "       0.69251337, 0.72471518, 0.70855615, 0.73378284, 0.72239014,\n",
              "       0.73959544, 0.73029528, 0.74203674, 0.73529412, 0.74540804,\n",
              "       0.74226924, 0.74726808, 0.743083  , 0.74645431, 0.74354801,\n",
              "       0.74738433, 0.74645431, 0.74761683, 0.74657056, 0.7486631 ,\n",
              "       0.74808184, 0.75122065, 0.74924436, 0.75098814, 0.75052313,\n",
              "       0.75180191, 0.75122065, 0.75226691, 0.75273192, 0.75168565,\n",
              "       0.75249942, 0.75215066, 0.75319693, 0.75296443, 0.75284817,\n",
              "       0.75366194, 0.75389444, 0.75308068, 0.7540107 , 0.75308068,\n",
              "       0.75412695, 0.75354569, 0.75354569, 0.75331318, 0.75366194,\n",
              "       0.75319693, 0.75354569, 0.75319693, 0.75366194, 0.75296443,\n",
              "       0.75366194, 0.75261567, 0.75284817, 0.75215066, 0.75284817,\n",
              "       0.75203441, 0.75249942, 0.75168565, 0.75238317, 0.75168565,\n",
              "       0.75226691, 0.75215066, 0.75226691, 0.75203441, 0.75215066,\n",
              "       0.75191816, 0.75203441, 0.7515694 , 0.75191816, 0.75168565,\n",
              "       0.75238317, 0.75122065, 0.75203441, 0.75087189, 0.75180191,\n",
              "       0.75098814, 0.75191816, 0.75098814, 0.75145315, 0.75075564,\n",
              "       0.7515694 , 0.75063939, 0.75145315, 0.75040688, 0.75122065,\n",
              "       0.75040688, 0.75075564, 0.74994187, 0.75040688, 0.74970937,\n",
              "       0.75029063, 0.74959312, 0.75005813, 0.        , 0.        ])"
            ]
          },
          "execution_count": 122,
          "metadata": {},
          "output_type": "execute_result"
        }
      ],
      "source": [
        "# calculating the accuracy of models with  values of k from 1 to 99\n",
        "mean_acc = np.zeros(100)\n",
        "for i in range(1,99):\n",
        "    #Train Model and Predict\n",
        "    knn = KNeighborsClassifier(n_neighbors = i).fit(X_train,y_train)\n",
        "    yhat= knn.predict(X_test)\n",
        "    mean_acc[i-1] = metrics.accuracy_score(y_test, yhat)\n",
        "\n",
        "mean_acc"
      ]
    },
    {
      "cell_type": "code",
      "execution_count": null,
      "id": "b60743a0",
      "metadata": {
        "id": "b60743a0",
        "outputId": "fab07e16-1bf4-4091-daf1-8dc3b0cf54e3"
      },
      "outputs": [
        {
          "data": {
            "text/plain": [
              "0.7541269472215764"
            ]
          },
          "execution_count": 139,
          "metadata": {},
          "output_type": "execute_result"
        }
      ],
      "source": [
        "#the best fitting model so far is when k = 50\n",
        "knn = KNeighborsClassifier(n_neighbors = 46)\n",
        "# Fit the classifier to the data\n",
        "knn.fit(X_train,y_train)\n",
        "y_pred_knn = knn.predict(X_test)\n",
        "\n",
        "acc_score_knn = accuracy_score(y_test, y_pred_knn)\n",
        "acc_score_knn"
      ]
    },
    {
      "cell_type": "markdown",
      "id": "8727bbf2",
      "metadata": {
        "id": "8727bbf2"
      },
      "source": [
        "## Decision Tree Classifier"
      ]
    },
    {
      "cell_type": "code",
      "execution_count": null,
      "id": "6bf61660",
      "metadata": {
        "id": "6bf61660"
      },
      "outputs": [],
      "source": [
        "#Import Decision tree model\n",
        "from sklearn.tree import DecisionTreeClassifier\n",
        "\n",
        "#Create a Gaussian Classifier\n",
        "dt = DecisionTreeClassifier(criterion=\"entropy\", max_depth=3)\n",
        "\n",
        "# Train the model using the training sets\n",
        "dt.fit(X_train, y_train)\n",
        "y_pred_dt = dt.predict(X_test)"
      ]
    },
    {
      "cell_type": "code",
      "execution_count": null,
      "id": "06eedd9c",
      "metadata": {
        "id": "06eedd9c",
        "outputId": "4c6cb3ac-05c3-472a-c376-69682a08e199"
      },
      "outputs": [
        {
          "data": {
            "text/plain": [
              "0.7762148337595908"
            ]
          },
          "execution_count": 126,
          "metadata": {},
          "output_type": "execute_result"
        }
      ],
      "source": [
        "acc_score_dt = accuracy_score(y_test, y_pred_dt)\n",
        "acc_score_dt"
      ]
    },
    {
      "cell_type": "code",
      "execution_count": null,
      "id": "05c2b64b",
      "metadata": {
        "id": "05c2b64b",
        "outputId": "ead37bea-2ec0-4c1f-88af-5f5e9942d34d"
      },
      "outputs": [
        {
          "data": {
            "text/plain": [
              "array([[2775, 1539],\n",
              "       [ 386, 3902]], dtype=int64)"
            ]
          },
          "execution_count": 127,
          "metadata": {},
          "output_type": "execute_result"
        }
      ],
      "source": [
        "cnf_matrix_dt = cnf_matrix(y_test, y_pred_dt)\n",
        "cnf_matrix_dt"
      ]
    },
    {
      "cell_type": "code",
      "execution_count": null,
      "id": "c00765e9",
      "metadata": {
        "id": "c00765e9",
        "outputId": "3ab1205b-2d4d-414c-cadf-548b44e017ae"
      },
      "outputs": [
        {
          "data": {
            "text/plain": [
              "(0.909981343283582, 0.6432545201668984, 0.7171475831648594, 0.909981343283582)"
            ]
          },
          "execution_count": 128,
          "metadata": {},
          "output_type": "execute_result"
        }
      ],
      "source": [
        "cnf_matrix_dt_values = cnf_mtx_values(cnf_matrix_dt)\n",
        "cnf_matrix_dt_values"
      ]
    },
    {
      "cell_type": "code",
      "execution_count": null,
      "id": "c6924ac5",
      "metadata": {
        "id": "c6924ac5",
        "outputId": "1f36292e-af87-4a05-8ef8-2085ea06f9c6"
      },
      "outputs": [
        {
          "data": {
            "text/plain": [
              "0.7766179317252403"
            ]
          },
          "execution_count": 129,
          "metadata": {},
          "output_type": "execute_result"
        }
      ],
      "source": [
        "roc = roc_curve(y_test, y_pred_dt)\n",
        "auc_score_dt = roc_auc_score(y_test, y_pred_dt)\n",
        "auc_score_dt"
      ]
    }
  ],
  "metadata": {
    "kernelspec": {
      "display_name": "Python 3",
      "language": "python",
      "name": "python3"
    },
    "language_info": {
      "codemirror_mode": {
        "name": "ipython",
        "version": 3
      },
      "file_extension": ".py",
      "mimetype": "text/x-python",
      "name": "python",
      "nbconvert_exporter": "python",
      "pygments_lexer": "ipython3",
      "version": "3.8.8"
    },
    "colab": {
      "provenance": []
    }
  },
  "nbformat": 4,
  "nbformat_minor": 5
}